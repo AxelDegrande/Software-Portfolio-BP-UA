{
 "cells": [
  {
   "cell_type": "code",
   "execution_count": 41,
   "id": "22498f93",
   "metadata": {},
   "outputs": [],
   "source": [
    "import serial\n",
    "ard = serial.Serial(\"COM9\", 9600, timeout=0.1)\n"
   ]
  },
  {
   "cell_type": "code",
   "execution_count": 10,
   "id": "3d2e9f0c",
   "metadata": {},
   "outputs": [
    {
     "name": "stdout",
     "output_type": "stream",
     "text": [
      "Detected joystick \n",
      "A button pressed.\n"
     ]
    },
    {
     "ename": "IndexError",
     "evalue": "list assignment index out of range",
     "output_type": "error",
     "traceback": [
      "\u001b[1;31m---------------------------------------------------------------------------\u001b[0m",
      "\u001b[1;31mIndexError\u001b[0m                                Traceback (most recent call last)",
      "\u001b[1;32mC:\\Users\\AXELDE~1\\AppData\\Local\\Temp/ipykernel_4360/2452859009.py\u001b[0m in \u001b[0;36m<module>\u001b[1;34m\u001b[0m\n\u001b[0;32m     51\u001b[0m             \u001b[1;32mif\u001b[0m \u001b[0mevent\u001b[0m\u001b[1;33m.\u001b[0m\u001b[0mtype\u001b[0m \u001b[1;33m==\u001b[0m \u001b[0mpygame\u001b[0m\u001b[1;33m.\u001b[0m\u001b[0mJOYBUTTONDOWN\u001b[0m\u001b[1;33m:\u001b[0m\u001b[1;33m\u001b[0m\u001b[1;33m\u001b[0m\u001b[0m\n\u001b[0;32m     52\u001b[0m                 \u001b[0mprint\u001b[0m\u001b[1;33m(\u001b[0m\u001b[1;34m\"A button pressed.\"\u001b[0m\u001b[1;33m)\u001b[0m\u001b[1;33m\u001b[0m\u001b[1;33m\u001b[0m\u001b[0m\n\u001b[1;32m---> 53\u001b[1;33m                 \u001b[0mbut\u001b[0m\u001b[1;33m[\u001b[0m\u001b[1;36m0\u001b[0m\u001b[1;33m]\u001b[0m\u001b[1;33m=\u001b[0m\u001b[1;36m1\u001b[0m\u001b[1;33m\u001b[0m\u001b[1;33m\u001b[0m\u001b[0m\n\u001b[0m\u001b[0;32m     54\u001b[0m             \u001b[1;32melif\u001b[0m \u001b[0mevent\u001b[0m\u001b[1;33m.\u001b[0m\u001b[0mtype\u001b[0m \u001b[1;33m==\u001b[0m \u001b[0mpygame\u001b[0m\u001b[1;33m.\u001b[0m\u001b[0mJOYBUTTONUP\u001b[0m\u001b[1;33m:\u001b[0m\u001b[1;33m\u001b[0m\u001b[1;33m\u001b[0m\u001b[0m\n\u001b[0;32m     55\u001b[0m                 \u001b[0mprint\u001b[0m\u001b[1;33m(\u001b[0m\u001b[1;34m\"A button released.\"\u001b[0m\u001b[1;33m)\u001b[0m\u001b[1;33m\u001b[0m\u001b[1;33m\u001b[0m\u001b[0m\n",
      "\u001b[1;31mIndexError\u001b[0m: list assignment index out of range"
     ]
    }
   ],
   "source": [
    "import pygame\n",
    "import time\n",
    "\n",
    "pygame.init()\n",
    "joysticks = []\n",
    "clock = pygame.time.Clock()\n",
    "keepPlaying = True\n",
    "\n",
    "# for al the connected joysticks\n",
    "for i in range(0, pygame.joystick.get_count()):\n",
    "    # create an Joystick object in our list\n",
    "    joysticks.append(pygame.joystick.Joystick(i))\n",
    "    # initialize them all (-1 means loop forever)\n",
    "    joysticks[-1].init()\n",
    "    # print a statement telling what the name of the controller is\n",
    "    print (\"Detected joystick \"),joysticks[-1].get_name(),\"'\"\n",
    "    \n",
    "    \n",
    "    \n",
    "while keepPlaying:\n",
    "    global hat\n",
    "    \n",
    "    \n",
    "    clock.tick(60)\n",
    "    \n",
    "    \n",
    "    for event in pygame.event.get():\n",
    "        \n",
    "        \n",
    "        joystick = pygame.joystick.Joystick(0)\n",
    "        \n",
    "        \n",
    "        \"\"\"\n",
    "        axes = joystick.get_numaxes()\n",
    "        for i in range(axes):            \n",
    "            axis = joystick.get_axis(i)\n",
    "            axis_formatted = float(\"{:>6.3f}\".format(axis))\n",
    "            print(\"Axis {}: {}\".format(i, axis_formatted))\n",
    "        \"\"\"    \n",
    "                 \n",
    "            \n",
    "        \n",
    "        buttons = joystick.get_numbuttons()\n",
    "        for i in range(buttons):\n",
    "            button = joystick.get_button(i)\n",
    "            #print('Button {:>2} value: {}'.format(i, button))\n",
    "            \n",
    "         \n",
    "        \n",
    "        if event.button == 0:\n",
    "            if event.type == pygame.JOYBUTTONDOWN:\n",
    "                print(\"A button pressed.\")\n",
    "                but[0]=1\n",
    "            elif event.type == pygame.JOYBUTTONUP:\n",
    "                print(\"A button released.\")\n",
    "                but[0]=0\n",
    "        print(but[0])\n",
    "         \n",
    "         \n",
    "        hats = joystick.get_numhats()\n",
    "        for i in range(hats):\n",
    "            hat = joystick.get_hat(i)\n",
    "            #print('Hat {} value: {}'.format(i, str(hat)))\n",
    "            #print(hat)    \n",
    "            \n",
    "    if hat == (-1,0):\n",
    "        ard.write(bytearray(\"M 0 10 \\r\",\"utf8\"))\n",
    "        time.sleep(0.1)\n",
    "    elif hat == (1,0):\n",
    "        ard.write(bytearray(\"M 0 -10 \\r\", \"utf8\"))\n",
    "        time.sleep(0.1)\n",
    "    elif hat == (0,1):\n",
    "        ard.write(bytearray(\"M 2 4 \\r\",\"utf8\"))\n",
    "        time.sleep(0.1)\n",
    "    elif hat == (0,-1):\n",
    "        ard.write(bytearray(\"M 2 -4 \\r\",\"utf8\"))\n",
    "        time.sleep(0.1)\n",
    "        \n",
    "        \n",
    "\n",
    "        \n",
    "\n",
    "    \n",
    "            \n",
    "            \n",
    "            \n",
    "            \n",
    "            \n",
    "   "
   ]
  },
  {
   "cell_type": "code",
   "execution_count": null,
   "id": "f84950a1",
   "metadata": {},
   "outputs": [],
   "source": []
  },
  {
   "cell_type": "code",
   "execution_count": null,
   "id": "145a816f",
   "metadata": {},
   "outputs": [],
   "source": []
  }
 ],
 "metadata": {
  "kernelspec": {
   "display_name": "Python 3 (ipykernel)",
   "language": "python",
   "name": "python3"
  },
  "language_info": {
   "codemirror_mode": {
    "name": "ipython",
    "version": 3
   },
   "file_extension": ".py",
   "mimetype": "text/x-python",
   "name": "python",
   "nbconvert_exporter": "python",
   "pygments_lexer": "ipython3",
   "version": "3.9.0"
  }
 },
 "nbformat": 4,
 "nbformat_minor": 5
}
